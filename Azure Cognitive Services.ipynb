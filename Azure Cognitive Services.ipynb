{
 "cells": [
  {
   "cell_type": "code",
   "execution_count": 1,
   "metadata": {},
   "outputs": [],
   "source": [
    "from azure.cognitiveservices.vision.computervision import ComputerVisionClient\n",
    "from azure.cognitiveservices.vision.computervision.models import OperationStatusCodes\n",
    "from azure.cognitiveservices.vision.computervision.models import VisualFeatureTypes\n",
    "from msrest.authentication import CognitiveServicesCredentials\n",
    "\n",
    "from array import array\n",
    "import os\n",
    "from PIL import Image\n",
    "import sys\n",
    "import time"
   ]
  },
  {
   "cell_type": "markdown",
   "metadata": {},
   "source": [
    "## DESCRIBE AN IMAGE"
   ]
  },
  {
   "cell_type": "code",
   "execution_count": 2,
   "metadata": {},
   "outputs": [],
   "source": [
    "local_image_path = os.path.join(r\"C:\\Users\\jayac\\Downloads\\AI 100\\1_o1pULqAB2NIrNV-Ur12SFg.jpeg\")\n",
    "# <snippet_remoteimage>\n",
    "remote_image_url = os.path.join(r\"C:\\Users\\jayac\\Downloads\\AI 100\\IMG_20200229_164759.jpg\")"
   ]
  },
  {
   "cell_type": "code",
   "execution_count": 3,
   "metadata": {},
   "outputs": [],
   "source": [
    "subscription_key = \"a9626af4d50a495a990e6d557e4c9735\"\n",
    "endpoint = \"https://jccognitive.cognitiveservices.azure.com/\""
   ]
  },
  {
   "cell_type": "code",
   "execution_count": 4,
   "metadata": {},
   "outputs": [],
   "source": [
    "computervision_client = ComputerVisionClient(endpoint, CognitiveServicesCredentials(subscription_key))"
   ]
  },
  {
   "cell_type": "code",
   "execution_count": 5,
   "metadata": {},
   "outputs": [
    {
     "name": "stdout",
     "output_type": "stream",
     "text": [
      "===== Describe an Image - local =====\n"
     ]
    }
   ],
   "source": [
    "print(\"===== Describe an Image - local =====\")\n",
    "# Open local image file\n",
    "local_image = open(local_image_path, \"rb\")"
   ]
  },
  {
   "cell_type": "code",
   "execution_count": 6,
   "metadata": {},
   "outputs": [],
   "source": [
    "description_result = computervision_client.describe_image_in_stream(local_image)"
   ]
  },
  {
   "cell_type": "code",
   "execution_count": 7,
   "metadata": {},
   "outputs": [
    {
     "name": "stdout",
     "output_type": "stream",
     "text": [
      "'a group of people playing cricket' with confidence 55.07%\n"
     ]
    }
   ],
   "source": [
    "if (len(description_result.captions) == 0):\n",
    "    print(\"No description detected.\")\n",
    "else:\n",
    "    for caption in description_result.captions:\n",
    "        print(\"'{}' with confidence {:.2f}%\".format(caption.text, caption.confidence * 100))"
   ]
  },
  {
   "cell_type": "code",
   "execution_count": 8,
   "metadata": {},
   "outputs": [],
   "source": [
    "remote_image = open(remote_image_url, \"rb\")\n",
    "description_results = computervision_client.describe_image_in_stream(remote_image )"
   ]
  },
  {
   "cell_type": "code",
   "execution_count": 9,
   "metadata": {},
   "outputs": [
    {
     "name": "stdout",
     "output_type": "stream",
     "text": [
      "'a red apple on a white surface' with confidence 60.01%\n"
     ]
    }
   ],
   "source": [
    "if (len(description_results.captions) == 0):\n",
    "    print(\"No description detected.\")\n",
    "else:\n",
    "    for caption in description_results.captions:\n",
    "        print(\"'{}' with confidence {:.2f}%\".format(caption.text, caption.confidence * 100))"
   ]
  },
  {
   "cell_type": "markdown",
   "metadata": {},
   "source": [
    "## CATEGORIZE AN IMAGE"
   ]
  },
  {
   "cell_type": "code",
   "execution_count": 10,
   "metadata": {},
   "outputs": [],
   "source": [
    "local_image_path = os.path.join(r\"C:\\Users\\jayac\\Downloads\\AI 100\\1_o1pULqAB2NIrNV-Ur12SFg.jpeg\")\n",
    "local_image = open(local_image_path, \"rb\")"
   ]
  },
  {
   "cell_type": "code",
   "execution_count": 11,
   "metadata": {},
   "outputs": [],
   "source": [
    "local_image_features = [\"categories\"]"
   ]
  },
  {
   "cell_type": "code",
   "execution_count": 12,
   "metadata": {},
   "outputs": [],
   "source": [
    "categorize_results_local = computervision_client.analyze_image_in_stream(local_image, local_image_features)"
   ]
  },
  {
   "cell_type": "code",
   "execution_count": 13,
   "metadata": {},
   "outputs": [
    {
     "name": "stdout",
     "output_type": "stream",
     "text": [
      "Categories from local image: \n",
      "'outdoor_' with confidence 0.78%\n",
      "'trans_bicycle' with confidence 85.55%\n",
      "\n"
     ]
    }
   ],
   "source": [
    "print(\"Categories from local image: \")\n",
    "if (len(categorize_results_local.categories) == 0):\n",
    "    print(\"No categories detected.\")\n",
    "else:\n",
    "    for category in categorize_results_local.categories:\n",
    "        print(\"'{}' with confidence {:.2f}%\".format(category.name, category.score * 100))\n",
    "print()"
   ]
  },
  {
   "cell_type": "markdown",
   "metadata": {},
   "source": [
    "## TAG AN IMAGE"
   ]
  },
  {
   "cell_type": "code",
   "execution_count": 14,
   "metadata": {},
   "outputs": [],
   "source": [
    "local_image_path = os.path.join(r\"C:\\Users\\jayac\\Downloads\\AI 100\\IMG_20200229_164759.jpg\")\n",
    "local_image = open(local_image_path, \"rb\")"
   ]
  },
  {
   "cell_type": "code",
   "execution_count": 15,
   "metadata": {},
   "outputs": [],
   "source": [
    "tags_result_local = computervision_client.tag_image_in_stream(local_image)"
   ]
  },
  {
   "cell_type": "code",
   "execution_count": 16,
   "metadata": {},
   "outputs": [
    {
     "name": "stdout",
     "output_type": "stream",
     "text": [
      "'apple' with confidence 98.89%\n",
      "'sitting' with confidence 97.39%\n",
      "'fruit' with confidence 96.98%\n",
      "'indoor' with confidence 94.32%\n",
      "'food' with confidence 81.87%\n",
      "'natural foods' with confidence 75.42%\n",
      "'mcintosh' with confidence 72.05%\n",
      "'diet food' with confidence 69.29%\n",
      "'superfood' with confidence 63.13%\n",
      "'accessory fruit' with confidence 60.38%\n",
      "'peach' with confidence 53.00%\n",
      "'orange' with confidence 48.05%\n"
     ]
    }
   ],
   "source": [
    "if (len(tags_result_local.tags) == 0):\n",
    "    print(\"No tags detected.\")\n",
    "else:\n",
    "    for tag in tags_result_local.tags:\n",
    "        print(\"'{}' with confidence {:.2f}%\".format(tag.name, tag.confidence * 100))"
   ]
  },
  {
   "cell_type": "code",
   "execution_count": 17,
   "metadata": {},
   "outputs": [],
   "source": [
    "remote_image_url = \"https://img.freepik.com/free-vector/pupils-study-classroom-interior-pupils-school-lesson-vector-illustration_53562-8013.jpg?size=626&ext=jpg\"\n"
   ]
  },
  {
   "cell_type": "code",
   "execution_count": 18,
   "metadata": {},
   "outputs": [],
   "source": [
    "tags_result_remote = computervision_client.tag_image(remote_image_url )"
   ]
  },
  {
   "cell_type": "code",
   "execution_count": 19,
   "metadata": {},
   "outputs": [
    {
     "name": "stdout",
     "output_type": "stream",
     "text": [
      "Tags in the remote image: \n",
      "'indoor' with confidence 99.72%\n",
      "'ceiling' with confidence 99.14%\n",
      "'table' with confidence 98.52%\n",
      "'floor' with confidence 97.08%\n",
      "'wall' with confidence 96.91%\n",
      "'cartoon' with confidence 95.37%\n",
      "'room' with confidence 88.04%\n",
      "'chair' with confidence 84.57%\n",
      "'text' with confidence 65.87%\n",
      "'person' with confidence 64.78%\n",
      "'child art' with confidence 53.21%\n",
      "'area' with confidence 42.14%\n",
      "'furniture' with confidence 32.40%\n",
      "'island' with confidence 16.28%\n",
      "'conference room' with confidence 11.29%\n",
      "'desk' with confidence 9.26%\n"
     ]
    }
   ],
   "source": [
    "print(\"Tags in the remote image: \")\n",
    "if (len(tags_result_remote.tags) == 0):\n",
    "    print(\"No tags detected.\")\n",
    "else:\n",
    "    for tag in tags_result_remote.tags:\n",
    "        print(\"'{}' with confidence {:.2f}%\".format(tag.name, tag.confidence * 100))"
   ]
  },
  {
   "cell_type": "markdown",
   "metadata": {},
   "source": [
    "## DETECT FACE"
   ]
  },
  {
   "cell_type": "code",
   "execution_count": 20,
   "metadata": {},
   "outputs": [],
   "source": [
    "local_image_path = os.path.join(r\"C:\\Users\\jayac\\Downloads\\AI 100\\OIP.jfif\")\n",
    "local_image = open(local_image_path, \"rb\")"
   ]
  },
  {
   "cell_type": "code",
   "execution_count": 21,
   "metadata": {},
   "outputs": [],
   "source": [
    "local_image_features = [\"faces\"]\n",
    "detect_faces_results_local = computervision_client.analyze_image_in_stream(local_image, local_image_features)"
   ]
  },
  {
   "cell_type": "code",
   "execution_count": 22,
   "metadata": {},
   "outputs": [
    {
     "name": "stdout",
     "output_type": "stream",
     "text": [
      "'Male' of age 33 at location 141, 49, 203, 111\n"
     ]
    }
   ],
   "source": [
    "if (len(detect_faces_results_local.faces) == 0):\n",
    "    print(\"No faces detected.\")\n",
    "else:\n",
    "    for face in detect_faces_results_local.faces:\n",
    "        print(\"'{}' of age {} at location {}, {}, {}, {}\".format(face.gender, face.age, \\\n",
    "        face.face_rectangle.left, face.face_rectangle.top, \\\n",
    "        face.face_rectangle.left + face.face_rectangle.width, \\\n",
    "        face.face_rectangle.top + face.face_rectangle.height))"
   ]
  },
  {
   "cell_type": "code",
   "execution_count": 23,
   "metadata": {},
   "outputs": [
    {
     "name": "stdout",
     "output_type": "stream",
     "text": [
      "===== Detect Faces - remote =====\n",
      "Faces in the remote image: \n",
      "'Male' of age 39 at location 118, 159, 212, 253\n",
      "'Male' of age 54 at location 492, 111, 582, 201\n",
      "'Female' of age 55 at location 18, 153, 102, 237\n",
      "'Female' of age 33 at location 386, 166, 467, 247\n",
      "'Female' of age 18 at location 235, 158, 311, 234\n",
      "'Female' of age 8 at location 323, 163, 391, 231\n"
     ]
    }
   ],
   "source": [
    "print(\"===== Detect Faces - remote =====\")\n",
    "# Get an image with faces\n",
    "remote_image_url_faces = \"https://raw.githubusercontent.com/Azure-Samples/cognitive-services-sample-data-files/master/ComputerVision/Images/faces.jpg\"\n",
    "# Select the visual feature(s) you want.\n",
    "remote_image_features = [\"faces\"]\n",
    "# Call the API with remote URL and features\n",
    "detect_faces_results_remote = computervision_client.analyze_image(remote_image_url_faces, remote_image_features)\n",
    "\n",
    "# Print the results with gender, age, and bounding box\n",
    "print(\"Faces in the remote image: \")\n",
    "if (len(detect_faces_results_remote.faces) == 0):\n",
    "    print(\"No faces detected.\")\n",
    "else:\n",
    "    for face in detect_faces_results_remote.faces:\n",
    "        print(\"'{}' of age {} at location {}, {}, {}, {}\".format(face.gender, face.age, \\\n",
    "        face.face_rectangle.left, face.face_rectangle.top, \\\n",
    "        face.face_rectangle.left + face.face_rectangle.width, \\\n",
    "        face.face_rectangle.top + face.face_rectangle.height))"
   ]
  },
  {
   "cell_type": "markdown",
   "metadata": {},
   "source": [
    "## Adult or Racy Content "
   ]
  },
  {
   "cell_type": "code",
   "execution_count": 24,
   "metadata": {},
   "outputs": [],
   "source": [
    "local_image_path = os.path.join(r\"C:\\Users\\jayac\\Downloads\\AI 100\\scolding-6.jpg\")\n",
    "local_image = open(local_image_path, \"rb\")"
   ]
  },
  {
   "cell_type": "code",
   "execution_count": 25,
   "metadata": {},
   "outputs": [],
   "source": [
    "local_image_features = [\"adult\"]\n",
    "detect_adult_results_local = computervision_client.analyze_image_in_stream(local_image, local_image_features)\n"
   ]
  },
  {
   "cell_type": "code",
   "execution_count": 26,
   "metadata": {},
   "outputs": [
    {
     "name": "stdout",
     "output_type": "stream",
     "text": [
      "Analyzing local image for adult or racy content ... \n",
      "Is adult content: False with confidence 4.04\n",
      "Has racy content: False with confidence 4.46\n"
     ]
    }
   ],
   "source": [
    "\n",
    "print(\"Analyzing local image for adult or racy content ... \")\n",
    "print(\"Is adult content: {} with confidence {:.2f}\".format(detect_adult_results_local .adult.is_adult_content, detect_adult_results_local .adult.adult_score * 100))\n",
    "print(\"Has racy content: {} with confidence {:.2f}\".format(detect_adult_results_local .adult.is_racy_content, detect_adult_results_local .adult.racy_score * 100))"
   ]
  },
  {
   "cell_type": "code",
   "execution_count": 27,
   "metadata": {},
   "outputs": [
    {
     "name": "stdout",
     "output_type": "stream",
     "text": [
      "===== Detect Adult or Racy Content - remote =====\n",
      "Analyzing remote image for adult or racy content ... \n",
      "Is adult content: False with confidence 0.78\n",
      "Has racy content: False with confidence 0.98\n",
      "\n"
     ]
    }
   ],
   "source": [
    "print(\"===== Detect Adult or Racy Content - remote =====\")\n",
    "# Select the visual feature(s) you want\n",
    "remote_image_url=\"https://th.bing.com/th/id/OIP.7Sj95KpLZBIEdu3IsgY_WQAAAA?w=300&h=153&c=7&o=5&dpr=1.25&pid=1.7\"\n",
    "remote_image_features = [\"adult\"]\n",
    "# Call API with URL and features\n",
    "detect_adult_results_remote = computervision_client.analyze_image(remote_image_url, remote_image_features)\n",
    "\n",
    "# Print results with adult/racy score\n",
    "print(\"Analyzing remote image for adult or racy content ... \")\n",
    "print(\"Is adult content: {} with confidence {:.2f}\".format(detect_adult_results_remote.adult.is_adult_content, detect_adult_results_remote.adult.adult_score * 100))\n",
    "print(\"Has racy content: {} with confidence {:.2f}\".format(detect_adult_results_remote.adult.is_racy_content, detect_adult_results_remote.adult.racy_score * 100))\n",
    "# </snippet_adult>\n",
    "print()"
   ]
  },
  {
   "cell_type": "markdown",
   "metadata": {},
   "source": [
    "## Detect Color"
   ]
  },
  {
   "cell_type": "code",
   "execution_count": 28,
   "metadata": {},
   "outputs": [],
   "source": [
    "local_image_path = os.path.join(r\"C:\\Users\\jayac\\Downloads\\AI 100\\Playground-WikiC-Post.jpg\")\n",
    "local_image = open(local_image_path, \"rb\")"
   ]
  },
  {
   "cell_type": "code",
   "execution_count": 29,
   "metadata": {},
   "outputs": [],
   "source": [
    "local_image_features = [\"color\"]\n",
    "detect_color_results_local = computervision_client.analyze_image_in_stream(local_image, local_image_features)"
   ]
  },
  {
   "cell_type": "code",
   "execution_count": 30,
   "metadata": {},
   "outputs": [
    {
     "name": "stdout",
     "output_type": "stream",
     "text": [
      "Getting color scheme of the local image: \n",
      "Is black and white: False\n",
      "Accent color: BA8411\n",
      "Dominant background color: Grey\n",
      "Dominant foreground color: Grey\n",
      "Dominant colors: ['Grey']\n"
     ]
    }
   ],
   "source": [
    "print(\"Getting color scheme of the local image: \")\n",
    "print(\"Is black and white: {}\".format(detect_color_results_local.color.is_bw_img))\n",
    "print(\"Accent color: {}\".format(detect_color_results_local.color.accent_color))\n",
    "print(\"Dominant background color: {}\".format(detect_color_results_local.color.dominant_color_background))\n",
    "print(\"Dominant foreground color: {}\".format(detect_color_results_local.color.dominant_color_foreground))\n",
    "print(\"Dominant colors: {}\".format(detect_color_results_local.color.dominant_colors))"
   ]
  },
  {
   "cell_type": "code",
   "execution_count": 31,
   "metadata": {},
   "outputs": [
    {
     "name": "stdout",
     "output_type": "stream",
     "text": [
      "===== Detect Color - remote =====\n",
      "Getting color scheme of the remote image: \n",
      "Is black and white: False\n",
      "Accent color: A2292E\n",
      "Dominant background color: White\n",
      "Dominant foreground color: White\n",
      "Dominant colors: ['White']\n"
     ]
    }
   ],
   "source": [
    "##Remote URL\n",
    "remote_image_url_faces = \"https://raw.githubusercontent.com/Azure-Samples/cognitive-services-sample-data-files/master/ComputerVision/Images/faces.jpg\"\n",
    "\n",
    "print(\"===== Detect Color - remote =====\")\n",
    "# Select the feature(s) you want\n",
    "remote_image_features = [\"color\"]\n",
    "# Call API with URL and features\n",
    "detect_color_results_remote = computervision_client.analyze_image(remote_image_url, remote_image_features)\n",
    "\n",
    "# Print results of color scheme\n",
    "print(\"Getting color scheme of the remote image: \")\n",
    "print(\"Is black and white: {}\".format(detect_color_results_remote.color.is_bw_img))\n",
    "print(\"Accent color: {}\".format(detect_color_results_remote.color.accent_color))\n",
    "print(\"Dominant background color: {}\".format(detect_color_results_remote.color.dominant_color_background))\n",
    "print(\"Dominant foreground color: {}\".format(detect_color_results_remote.color.dominant_color_foreground))\n",
    "print(\"Dominant colors: {}\".format(detect_color_results_remote.color.dominant_colors))"
   ]
  },
  {
   "cell_type": "markdown",
   "metadata": {},
   "source": [
    "## Detect Famous personality"
   ]
  },
  {
   "cell_type": "code",
   "execution_count": 32,
   "metadata": {},
   "outputs": [],
   "source": [
    "local_image_path = os.path.join(r\"C:\\Users\\jayac\\Downloads\\AI 100\\jeff.jfif\")\n",
    "local_image = open(local_image_path, \"rb\")"
   ]
  },
  {
   "cell_type": "code",
   "execution_count": 33,
   "metadata": {},
   "outputs": [],
   "source": [
    "detect_domain_results_celebs_local = computervision_client.analyze_image_by_domain_in_stream(\"celebrities\", local_image)\n"
   ]
  },
  {
   "cell_type": "code",
   "execution_count": 34,
   "metadata": {},
   "outputs": [
    {
     "name": "stdout",
     "output_type": "stream",
     "text": [
      "Celebrities in the local image:\n",
      "Jeff Bezos\n"
     ]
    }
   ],
   "source": [
    "print(\"Celebrities in the local image:\")\n",
    "if len(detect_domain_results_celebs_local.result[\"celebrities\"]) == 0:\n",
    "    print(\"No celebrities detected.\")\n",
    "else:\n",
    "    for celeb in detect_domain_results_celebs_local.result[\"celebrities\"]:\n",
    "        print(celeb[\"name\"])"
   ]
  },
  {
   "cell_type": "code",
   "execution_count": 35,
   "metadata": {},
   "outputs": [
    {
     "name": "stdout",
     "output_type": "stream",
     "text": [
      "===== Detect Domain-specific Content - remote =====\n",
      "Celebrities in the remote image:\n",
      "Bern Collaco\n"
     ]
    }
   ],
   "source": [
    "## Using URL\n",
    "print(\"===== Detect Domain-specific Content - remote =====\")\n",
    "# URL of one or more celebrities\n",
    "remote_image_url_celebs = \"https://raw.githubusercontent.com/Azure-Samples/cognitive-services-sample-data-files/master/ComputerVision/Images/faces.jpg\"\n",
    "# Call API with content type (celebrities) and URL\n",
    "detect_domain_results_celebs_remote = computervision_client.analyze_image_by_domain(\"celebrities\", remote_image_url_celebs)\n",
    "\n",
    "# Print detection results with name\n",
    "print(\"Celebrities in the remote image:\")\n",
    "if len(detect_domain_results_celebs_remote.result[\"celebrities\"]) == 0:\n",
    "    print(\"No celebrities detected.\")\n",
    "else:\n",
    "    for celeb in detect_domain_results_celebs_remote.result[\"celebrities\"]:\n",
    "        print(celeb[\"name\"])"
   ]
  },
  {
   "cell_type": "markdown",
   "metadata": {},
   "source": [
    "## Detect Landmarks"
   ]
  },
  {
   "cell_type": "code",
   "execution_count": 36,
   "metadata": {},
   "outputs": [],
   "source": [
    "local_image_path = os.path.join(r\"C:\\Users\\jayac\\Downloads\\AI 100\\Eiffel-Tower-view-Paris.jpg\")\n",
    "local_image_landmark = open(local_image_path, \"rb\")"
   ]
  },
  {
   "cell_type": "code",
   "execution_count": 37,
   "metadata": {},
   "outputs": [],
   "source": [
    "detect_domain_results_landmark_local = computervision_client.analyze_image_by_domain_in_stream(\"landmarks\", local_image_landmark)\n"
   ]
  },
  {
   "cell_type": "code",
   "execution_count": 38,
   "metadata": {},
   "outputs": [
    {
     "name": "stdout",
     "output_type": "stream",
     "text": [
      "Landmarks in the local image:\n",
      "Eiffel Tower\n"
     ]
    }
   ],
   "source": [
    "print(\"Landmarks in the local image:\")\n",
    "if len(detect_domain_results_landmark_local.result[\"landmarks\"]) == 0:\n",
    "    print(\"No landmarks detected.\")\n",
    "else:\n",
    "    for landmark in detect_domain_results_landmark_local.result[\"landmarks\"]:\n",
    "        print(landmark[\"name\"])"
   ]
  },
  {
   "cell_type": "code",
   "execution_count": 39,
   "metadata": {},
   "outputs": [
    {
     "name": "stdout",
     "output_type": "stream",
     "text": [
      "\n",
      "Landmarks in the remote image:\n",
      "Taj Mahal\n"
     ]
    }
   ],
   "source": [
    "remote_image_url=\"https://th.bing.com/th/id/OIP.gM4rJpH5YAcKHP4JF9O1WAHaFj?pid=Api&rs=1\"\n",
    "detect_domain_results_landmarks = computervision_client.analyze_image_by_domain(\"landmarks\", remote_image_url)\n",
    "print()\n",
    "\n",
    "print(\"Landmarks in the remote image:\")\n",
    "if len(detect_domain_results_landmarks.result[\"landmarks\"]) == 0:\n",
    "    print(\"No landmarks detected.\")\n",
    "else:\n",
    "    for landmark in detect_domain_results_landmarks.result[\"landmarks\"]:\n",
    "        print(landmark[\"name\"])"
   ]
  },
  {
   "cell_type": "markdown",
   "metadata": {},
   "source": [
    "## Analyze whether a Clip Art or line draw"
   ]
  },
  {
   "cell_type": "code",
   "execution_count": 40,
   "metadata": {},
   "outputs": [],
   "source": [
    "local_image_path = os.path.join(r\"C:\\Users\\jayac\\Downloads\\AI 100\\art.jfif\")\n",
    "local_image_type = open(local_image_path, \"rb\")"
   ]
  },
  {
   "cell_type": "code",
   "execution_count": 41,
   "metadata": {},
   "outputs": [],
   "source": [
    "local_image_features = [VisualFeatureTypes.image_type]\n",
    "detect_type_results_local = computervision_client.analyze_image_in_stream(local_image_type, local_image_features)"
   ]
  },
  {
   "cell_type": "code",
   "execution_count": 42,
   "metadata": {},
   "outputs": [
    {
     "name": "stdout",
     "output_type": "stream",
     "text": [
      "Type of local image:\n",
      "Image is not clip art.\n",
      "Image is not a line drawing.\n"
     ]
    }
   ],
   "source": [
    "print(\"Type of local image:\")\n",
    "if detect_type_results_local.image_type.clip_art_type == 0:\n",
    "    print(\"Image is not clip art.\")\n",
    "elif detect_type_results_local.image_type.line_drawing_type == 1:\n",
    "    print(\"Image is ambiguously clip art.\")\n",
    "elif detect_type_results_local.image_type.line_drawing_type == 2:\n",
    "    print(\"Image is normal clip art.\")\n",
    "else:\n",
    "    print(\"Image is good clip art.\")\n",
    "\n",
    "if detect_type_results_local.image_type.line_drawing_type == 0:\n",
    "    print(\"Image is not a line drawing.\")\n",
    "else:\n",
    "    print(\"Image is a line drawing\")"
   ]
  },
  {
   "cell_type": "code",
   "execution_count": 43,
   "metadata": {},
   "outputs": [
    {
     "name": "stdout",
     "output_type": "stream",
     "text": [
      "Type of remote image:\n",
      "Image is ambiguously clip art.\n",
      "Image is a line drawing\n"
     ]
    }
   ],
   "source": [
    "remote_image_url_type = \"https://th.bing.com/th/id/OIP.OMu3jolGatFWD_egzgloLQHaJB?w=206&h=251&c=7&o=5&dpr=1.25&pid=1.7\"\n",
    "# Select visual feature(s) you want\n",
    "remote_image_features = [VisualFeatureTypes.image_type]\n",
    "# Call API with URL and features\n",
    "detect_type_results_remote = computervision_client.analyze_image(remote_image_url_type, remote_image_features)\n",
    "\n",
    "# Prints type results with degree of accuracy\n",
    "print(\"Type of remote image:\")\n",
    "if detect_type_results_remote.image_type.clip_art_type == 0:\n",
    "    print(\"Image is not clip art.\")\n",
    "elif detect_type_results_remote.image_type.line_drawing_type == 1:\n",
    "    print(\"Image is ambiguously clip art.\")\n",
    "elif detect_type_results_remote.image_type.line_drawing_type == 2:\n",
    "    print(\"Image is normal clip art.\")\n",
    "else:\n",
    "    print(\"Image is good clip art.\")\n",
    "\n",
    "if detect_type_results_remote.image_type.line_drawing_type == 0:\n",
    "    print(\"Image is not a line drawing.\")\n",
    "else:\n",
    "    print(\"Image is a line drawing\")"
   ]
  },
  {
   "cell_type": "markdown",
   "metadata": {},
   "source": [
    "## Detecting Objects with Boudning box"
   ]
  },
  {
   "cell_type": "code",
   "execution_count": 44,
   "metadata": {},
   "outputs": [
    {
     "name": "stdout",
     "output_type": "stream",
     "text": [
      "===== Detect Objects - remote =====\n",
      "Detecting objects in remote image:\n",
      "object at location 213, 365, 85, 208\n",
      "object at location 218, 402, 179, 384\n",
      "object at location 238, 417, 298, 416\n",
      "object at location 116, 419, 60, 386\n",
      "\n"
     ]
    }
   ],
   "source": [
    "print(\"===== Detect Objects - remote =====\")\n",
    "# Get URL image with different objects\n",
    "remote_image_url_objects = \"https://raw.githubusercontent.com/Azure-Samples/cognitive-services-sample-data-files/master/ComputerVision/Images/objects.jpg\"\n",
    "# Call API with URL\n",
    "detect_objects_results_remote = computervision_client.detect_objects(remote_image_url_objects)\n",
    "\n",
    "# Print detected objects results with bounding boxes\n",
    "print(\"Detecting objects in remote image:\")\n",
    "if len(detect_objects_results_remote.objects) == 0:\n",
    "    print(\"No objects detected.\")\n",
    "else:\n",
    "    for object in detect_objects_results_remote.objects:\n",
    "        print(\"object at location {}, {}, {}, {}\".format( \\\n",
    "        object.rectangle.x, object.rectangle.x + object.rectangle.w, \\\n",
    "        object.rectangle.y, object.rectangle.y + object.rectangle.h))\n",
    "# </snippet_objects>\n",
    "print()"
   ]
  },
  {
   "cell_type": "markdown",
   "metadata": {},
   "source": [
    "## Detecting Brands"
   ]
  },
  {
   "cell_type": "code",
   "execution_count": 45,
   "metadata": {},
   "outputs": [
    {
     "name": "stdout",
     "output_type": "stream",
     "text": [
      "===== Detect Brands - remote =====\n",
      "Detecting brands in remote image: \n",
      "'Microsoft' brand detected with confidence 62.5% at location 58, 113, 106, 152\n",
      "'Microsoft' brand detected with confidence 69.8% at location 58, 260, 86, 149\n"
     ]
    }
   ],
   "source": [
    "print(\"===== Detect Brands - remote =====\")\n",
    "# Get a URL with a brand logo\n",
    "remote_image_url = \"https://docs.microsoft.com/en-us/azure/cognitive-services/computer-vision/images/gray-shirt-logo.jpg\"\n",
    "# Select the visual feature(s) you want\n",
    "remote_image_features = [\"brands\"]\n",
    "# Call API with URL and features\n",
    "detect_brands_results_remote = computervision_client.analyze_image(remote_image_url, remote_image_features)\n",
    "\n",
    "print(\"Detecting brands in remote image: \")\n",
    "if len(detect_brands_results_remote.brands) == 0:\n",
    "    print(\"No brands detected.\")\n",
    "else:\n",
    "    for brand in detect_brands_results_remote.brands:\n",
    "        print(\"'{}' brand detected with confidence {:.1f}% at location {}, {}, {}, {}\".format( \\\n",
    "        brand.name, brand.confidence * 100, brand.rectangle.x, brand.rectangle.x + brand.rectangle.w, \\\n",
    "        brand.rectangle.y, brand.rectangle.y + brand.rectangle.h))"
   ]
  },
  {
   "cell_type": "markdown",
   "metadata": {},
   "source": [
    "## Generate ThumbNail"
   ]
  },
  {
   "cell_type": "code",
   "execution_count": 46,
   "metadata": {},
   "outputs": [
    {
     "name": "stdout",
     "output_type": "stream",
     "text": [
      "Generating thumbnail from a URL image...\n",
      "Thumbnail saved to local folder.\n"
     ]
    }
   ],
   "source": [
    "import matplotlib.pyplot as plt\n",
    "remote_image_url_thumb = \"https://raw.githubusercontent.com/Azure-Samples/cognitive-services-sample-data-files/master/ComputerVision/Images/faces.jpg\"\n",
    "\n",
    "print(\"Generating thumbnail from a URL image...\")\n",
    "# Returns a Generator object, a thumbnail image binary (list).\n",
    "thumb_remote = computervision_client.generate_thumbnail(\n",
    "    100, 100, remote_image_url_thumb, True)\n",
    "# Write the image binary to file\n",
    "with open(\"thumb_remote.png\", \"wb\") as f:\n",
    "    for chunk in thumb_remote:\n",
    "        f.write(chunk)\n",
    "\n",
    "print(\"Thumbnail saved to local folder.\")"
   ]
  },
  {
   "cell_type": "markdown",
   "metadata": {},
   "source": [
    "## Extract text from Handwriting"
   ]
  },
  {
   "cell_type": "code",
   "execution_count": 47,
   "metadata": {},
   "outputs": [
    {
     "name": "stdout",
     "output_type": "stream",
     "text": [
      "===== Batch Read File - remote =====\n",
      "I_ 1\n",
      "[2084.0, 10.0, 2339.0, 13.0, 2337.0, 99.0, 2083.0, 94.0]\n",
      "Handwriting\n",
      "[938.0, 204.0, 1572.0, 211.0, 1570.0, 342.0, 937.0, 339.0]\n",
      "That action of emotion, of thought\n",
      "[647.0, 446.0, 2317.0, 439.0, 2318.0, 540.0, 647.0, 546.0]\n",
      "land of decision that I has recorded the\n",
      "[256.0, 566.0, 2179.0, 537.0, 2180.0, 635.0, 257.0, 656.0]\n",
      "history of mankind, revealed the genius\n",
      "[259.0, 664.0, 2229.0, 648.0, 2230.0, 751.0, 259.0, 763.0]\n",
      "of invention, and disclosed the immost\n",
      "[276.0, 787.0, 2189.0, 755.0, 2190.0, 849.0, 277.0, 876.0]\n",
      "depths of the soulful heart. It gives\n",
      "[296.0, 886.0, 2145.0, 859.0, 2146.0, 958.0, 296.0, 980.0]\n",
      "ideas tangible form through written letters,\n",
      "[279.0, 994.0, 2320.0, 974.0, 2321.0, 1070.0, 279.0, 1087.0]\n",
      "Pictographs , symbols and signs .\n",
      "[275.0, 1108.0, 1765.0, 1091.0, 1766.0, 1187.0, 275.0, 1202.0]\n",
      "Handwriting forms a bond across\n",
      "[614.0, 1294.0, 2233.0, 1294.0, 2234.0, 1403.0, 614.0, 1406.0]\n",
      "millennio and generations that not only\n",
      "[283.0, 1420.0, 2242.0, 1407.0, 2243.0, 1502.0, 284.0, 1514.0]\n",
      "thes us to the thoughts and deeds of our\n",
      "[296.0, 1524.0, 2296.0, 1517.0, 2296.0, 1609.0, 296.0, 1619.0]\n",
      "farebears , but also seves as an irrevocable\n",
      "[270.0, 1637.0, 2323.0, 1623.0, 2324.0, 1712.0, 271.0, 1732.0]\n",
      "link to ouve humanity. Neither machines\n",
      "[278.0, 1743.0, 2250.0, 1734.0, 2251.0, 1816.0, 279.0, 1831.0]\n",
      "nor Technology can replace the contribution\n",
      "[268.0, 1859.0, 2341.0, 1839.0, 2342.0, 1922.0, 268.0, 1941.0]\n",
      "or continuing importance of this inexpensive\n",
      "[281.0, 1962.0, 2379.0, 1952.0, 2380.0, 2036.0, 281.0, 2052.0]\n",
      "portable skill Necessary in every age ,\n",
      "[271.0, 2062.0, 2156.0, 2058.0, 2157.0, 2154.0, 271.0, 2163.0]\n",
      "handwriting remains just as vital to the\n",
      "[251.0, 2179.0, 2301.0, 2155.0, 2302.0, 2249.0, 252.0, 2270.0]\n",
      "enduring saga of civilization as our next\n",
      "[261.0, 2284.0, 2335.0, 2274.0, 2336.0, 2362.0, 261.0, 2379.0]\n",
      "breath\n",
      "[261.0, 2404.0, 588.0, 2394.0, 589.0, 2477.0, 261.0, 2491.0]\n",
      "Michael R full\n",
      "[807.0, 2536.0, 2181.0, 2499.0, 2188.0, 2749.0, 807.0, 2787.0]\n"
     ]
    }
   ],
   "source": [
    "print(\"===== Batch Read File - remote =====\")\n",
    "# Get an image with handwritten text\n",
    "remote_image_handw_text_url = \"https://handwritingrepair.info/WHAC/Winners2019/AdultCursive1.JPG\"\n",
    "\n",
    "# Call API with URL and raw response (allows you to get the operation location)\n",
    "recognize_handw_results = computervision_client.read(remote_image_handw_text_url,  raw=True)\n",
    "# </snippet_read_call>\n",
    "\n",
    "# <snippet_read_response>\n",
    "# Get the operation location (URL with an ID at the end) from the response\n",
    "operation_location_remote = recognize_handw_results.headers[\"Operation-Location\"]\n",
    "# Grab the ID from the URL\n",
    "operation_id = operation_location_remote.split(\"/\")[-1]\n",
    "\n",
    "# Call the \"GET\" API and wait for it to retrieve the results \n",
    "while True:\n",
    "    get_handw_text_results = computervision_client.get_read_result(operation_id)\n",
    "    if get_handw_text_results.status not in ['notStarted', 'running']:\n",
    "        break\n",
    "    time.sleep(1)\n",
    "\n",
    "# Print the detected text, line by line\n",
    "if get_handw_text_results.status == OperationStatusCodes.succeeded:\n",
    "    for text_result in get_handw_text_results.analyze_result.read_results:\n",
    "        for line in text_result.lines:\n",
    "            print(line.text)\n",
    "            print(line.bounding_box)"
   ]
  },
  {
   "cell_type": "code",
   "execution_count": null,
   "metadata": {},
   "outputs": [],
   "source": []
  },
  {
   "cell_type": "code",
   "execution_count": 48,
   "metadata": {},
   "outputs": [],
   "source": [
    "local_image_path = os.path.join(r\"C:\\Users\\jayac\\Downloads\\AI 100\\printed_text.jpg\")\n",
    "local_image_printed_text = open(local_image_path, \"rb\")"
   ]
  },
  {
   "cell_type": "code",
   "execution_count": 49,
   "metadata": {},
   "outputs": [],
   "source": [
    "ocr_result_local = computervision_client.recognize_printed_text_in_stream(local_image_printed_text)"
   ]
  },
  {
   "cell_type": "code",
   "execution_count": 50,
   "metadata": {},
   "outputs": [
    {
     "name": "stdout",
     "output_type": "stream",
     "text": [
      "Bounding box: 79,94,1109,81\n",
      "Nutrition Facts Amount Per Serving \n",
      "Bounding box: 220,171,334,51\n",
      "see: bar (40g) \n",
      "Bounding box: 654,205,321,50\n",
      "Total Fat 13g \n",
      "Bounding box: 45,230,473,56\n",
      "Servng Per Package: 4 \n",
      "Bounding box: 682,287,433,50\n",
      "Saturated t 1.5 g \n",
      "Bounding box: 11,347,474,50\n",
      "Amount Per Serving \n",
      "Bounding box: 19,436,256,43\n",
      "alories 190 \n",
      "Bounding box: 32,517,397,43\n",
      "ories from Fat 110 \n",
      "Bounding box: 72,618,394,41\n",
      "t Daily Values are based \n",
      "Bounding box: 673,362,289,53\n",
      "Trans Fat Og \n",
      "Bounding box: 613,438,422,60\n",
      "Cholesterol Omg \n",
      "Bounding box: 598,517,358,53\n",
      "Sodium 20mq \n"
     ]
    }
   ],
   "source": [
    "for region in ocr_result_local.regions:\n",
    "    for line in region.lines:\n",
    "        print(\"Bounding box: {}\".format(line.bounding_box))\n",
    "        s = \"\"\n",
    "        for word in line.words:\n",
    "            s += word.text + \" \"\n",
    "        print(s)"
   ]
  },
  {
   "cell_type": "code",
   "execution_count": 51,
   "metadata": {},
   "outputs": [
    {
     "name": "stdout",
     "output_type": "stream",
     "text": [
      "===== Detect Printed Text with OCR - remote =====\n",
      "Bounding box: 37,50,121,40\n",
      "Directi0Ds: \n",
      "Bounding box: 43,105,228,15\n",
      "How to Get \"Here\" from \"There\" \n",
      "Bounding box: 93,225,30,9\n",
      "Imp... \n",
      "\n"
     ]
    }
   ],
   "source": [
    "print(\"===== Detect Printed Text with OCR - remote =====\")\n",
    "remote_printed_text_image_url = \"https://th.bing.com/th/id/OIP.0E5D0hK8S9Au4trRfsIllgHaFu?pid=Api&rs=1\"\n",
    "\n",
    "ocr_result_remote = computervision_client.recognize_printed_text(remote_printed_text_image_url)\n",
    "for region in ocr_result_remote.regions:\n",
    "    for line in region.lines:\n",
    "        print(\"Bounding box: {}\".format(line.bounding_box))\n",
    "        s = \"\"\n",
    "        for word in line.words:\n",
    "            s += word.text + \" \"\n",
    "        print(s)\n",
    "print()"
   ]
  },
  {
   "cell_type": "code",
   "execution_count": 52,
   "metadata": {},
   "outputs": [
    {
     "name": "stdout",
     "output_type": "stream",
     "text": [
      "Ready to use cognitive services at https://jccognitive.cognitiveservices.azure.com/ using key a9626af4d50a495a990e6d557e4c9735\n"
     ]
    }
   ],
   "source": [
    "cog_key = \"a9626af4d50a495a990e6d557e4c9735\"\n",
    "cog_endpoint = \"https://jccognitive.cognitiveservices.azure.com/\"\n",
    "\n",
    "print('Ready to use cognitive services at {} using key {}'.format(cog_endpoint, cog_key))"
   ]
  },
  {
   "cell_type": "code",
   "execution_count": 53,
   "metadata": {},
   "outputs": [],
   "source": [
    "def show_image_caption():\n",
    "    import matplotlib.pyplot as plt\n",
    "   # local_image_path = os.path.join(r\"C:\\Users\\jayac\\Downloads\\AI 100\\1_o1pULqAB2NIrNV-Ur12SFg.jpeg\")\n",
    "    # <snippet_remoteimage>\n",
    "    remote_image_url = os.path.join(r\"C:\\Users\\jayac\\Downloads\\AI 100\\IMG_20200229_164759.jpg\")\n",
    "    subscription_key = \"a9626af4d50a495a990e6d557e4c9735\"\n",
    "    endpoint = \"https://jccognitive.cognitiveservices.azure.com/\"\n",
    "    computervision_client = ComputerVisionClient(endpoint, CognitiveServicesCredentials(subscription_key))\n",
    "    print(\"===== Describe an Image - local =====\")\n",
    "    local_image = open(local_image_path, \"rb\")\n",
    "    description_results = computervision_client.describe_image_in_stream(local_image)\n",
    "    # Open local image file  \n",
    "    if (len(description_results.captions) == 0):\n",
    "        print(\"No description detected.\")\n",
    "    else:\n",
    "        for caption in description_results.captions:\n",
    "            print(\"'{}' with confidence {:.2f}%\".format(caption.text, caption.confidence * 100))\n",
    "    plt.axis('off')\n",
    "    plt.imshow(img)\n"
   ]
  },
  {
   "cell_type": "code",
   "execution_count": 54,
   "metadata": {},
   "outputs": [
    {
     "name": "stdout",
     "output_type": "stream",
     "text": [
      "===== Describe an Image - local =====\n",
      "'text, table' with confidence 65.39%\n"
     ]
    },
    {
     "ename": "NameError",
     "evalue": "name 'img' is not defined",
     "output_type": "error",
     "traceback": [
      "\u001b[1;31m---------------------------------------------------------------------------\u001b[0m",
      "\u001b[1;31mNameError\u001b[0m                                 Traceback (most recent call last)",
      "\u001b[1;32m<ipython-input-54-e169f3c659b7>\u001b[0m in \u001b[0;36m<module>\u001b[1;34m\u001b[0m\n\u001b[1;32m----> 1\u001b[1;33m \u001b[0mshow_image_caption\u001b[0m\u001b[1;33m(\u001b[0m\u001b[1;33m)\u001b[0m\u001b[1;33m\u001b[0m\u001b[1;33m\u001b[0m\u001b[0m\n\u001b[0m",
      "\u001b[1;32m<ipython-input-53-5ee071221d48>\u001b[0m in \u001b[0;36mshow_image_caption\u001b[1;34m()\u001b[0m\n\u001b[0;32m     17\u001b[0m             \u001b[0mprint\u001b[0m\u001b[1;33m(\u001b[0m\u001b[1;34m\"'{}' with confidence {:.2f}%\"\u001b[0m\u001b[1;33m.\u001b[0m\u001b[0mformat\u001b[0m\u001b[1;33m(\u001b[0m\u001b[0mcaption\u001b[0m\u001b[1;33m.\u001b[0m\u001b[0mtext\u001b[0m\u001b[1;33m,\u001b[0m \u001b[0mcaption\u001b[0m\u001b[1;33m.\u001b[0m\u001b[0mconfidence\u001b[0m \u001b[1;33m*\u001b[0m \u001b[1;36m100\u001b[0m\u001b[1;33m)\u001b[0m\u001b[1;33m)\u001b[0m\u001b[1;33m\u001b[0m\u001b[1;33m\u001b[0m\u001b[0m\n\u001b[0;32m     18\u001b[0m     \u001b[0mplt\u001b[0m\u001b[1;33m.\u001b[0m\u001b[0maxis\u001b[0m\u001b[1;33m(\u001b[0m\u001b[1;34m'off'\u001b[0m\u001b[1;33m)\u001b[0m\u001b[1;33m\u001b[0m\u001b[1;33m\u001b[0m\u001b[0m\n\u001b[1;32m---> 19\u001b[1;33m     \u001b[0mplt\u001b[0m\u001b[1;33m.\u001b[0m\u001b[0mimshow\u001b[0m\u001b[1;33m(\u001b[0m\u001b[0mimg\u001b[0m\u001b[1;33m)\u001b[0m\u001b[1;33m\u001b[0m\u001b[1;33m\u001b[0m\u001b[0m\n\u001b[0m",
      "\u001b[1;31mNameError\u001b[0m: name 'img' is not defined"
     ]
    },
    {
     "data": {
      "image/png": "[encoded data removed]",
      "text/plain": [
       "<Figure size 432x288 with 1 Axes>"
      ]
     },
     "metadata": {
      "needs_background": "light"
     },
     "output_type": "display_data"
    }
   ],
   "source": [
    "show_image_caption()"
   ]
  },
  {
   "cell_type": "code",
   "execution_count": 55,
   "metadata": {},
   "outputs": [
    {
     "name": "stdout",
     "output_type": "stream",
     "text": [
      "Enter the path of the image: C:\\Users\\jayac\\Downloads\\AI 100\\scolding-6.jpg\n"
     ]
    },
    {
     "data": {
      "image/png": "[encoded data removed]",
      "text/plain": [
       "<Figure size 1152x576 with 1 Axes>"
      ]
     },
     "metadata": {
      "needs_background": "light"
     },
     "output_type": "display_data"
    }
   ],
   "source": [
    "def show_image_analysis(image_path,img_analysis):\n",
    "    import matplotlib.pyplot as plt\n",
    "    from PIL import Image, ImageDraw\n",
    "    import numpy as np\n",
    "\n",
    "    # Display the image\n",
    "    fig = plt.figure(figsize=(16, 8))\n",
    "    a = fig.add_subplot(1,2,1)\n",
    "    img = Image.open(image_path)\n",
    "    \n",
    "    # Get the caption\n",
    "    caption_text = ''\n",
    "    if (len(image_analysis.description.captions) == 0):\n",
    "        caption_text = 'No caption detected'\n",
    "    else:\n",
    "        for caption in image_analysis.description.captions:\n",
    "            caption_text = caption_text + \" '{}'\\n(Confidence: {:.2f}%)\".format(caption.text, caption.confidence * 100)\n",
    "    plt.title(caption_text)\n",
    "\n",
    "    # Get objects\n",
    "    if image_analysis.objects:\n",
    "        # Draw a rectangle around each object\n",
    "        for object in image_analysis.objects:\n",
    "            r = object.rectangle\n",
    "            bounding_box = ((r.x, r.y), (r.x + r.w, r.y + r.h))\n",
    "            draw = ImageDraw.Draw(img)\n",
    "            draw.rectangle(bounding_box, outline='magenta', width=5)\n",
    "            plt.annotate(object.object_property,(r.x, r.y), backgroundcolor='magenta')\n",
    "\n",
    "    # Get faces\n",
    "    if image_analysis.faces:\n",
    "        # Draw a rectangle around each face\n",
    "        for face in image_analysis.faces:\n",
    "            r = face.face_rectangle\n",
    "            bounding_box = ((r.left, r.top), (r.left + r.width, r.top + r.height))\n",
    "            draw = ImageDraw.Draw(img)\n",
    "            draw.rectangle(bounding_box, outline='lightgreen', width=5)\n",
    "            annotation = 'Person aged approxilately {}'.format(face.age)\n",
    "            plt.annotate(annotation,(r.left, r.top), backgroundcolor='lightgreen')\n",
    "\n",
    "    plt.axis('off')\n",
    "    plt.imshow(img)\n",
    "    \n",
    "    ratings = 'Ratings:\\n - Adult: {}\\n - Racy: {}\\n - Gore: {}'.format(image_analysis.adult.is_adult_content,\n",
    "                                                                           image_analysis.adult.is_racy_content,\n",
    "                                                                           image_analysis.adult.is_gory_content,)\n",
    "\n",
    "    # Get tags\n",
    "    tags = 'Tags:'\n",
    "    for tag in image_analysis.tags:\n",
    "        tags = tags + '\\n - {}'.format(tag.name)\n",
    "\n",
    "    # Print details\n",
    "\n",
    "    details = '{}\\n\\n{}'.format(ratings, tags)\n",
    "    a.text(0,0.4, details, fontsize=12)\n",
    "    plt.axis('off')\n",
    "    plt.show()\n",
    "    \n",
    "if __name__ == '__main__':\n",
    "    azure_cog_endpoint = 'https://jccognitive.cognitiveservices.azure.com/'\n",
    "    azure_cog_key = 'a9626af4d50a495a990e6d557e4c9735'\n",
    "    azure_compvision_client = ComputerVisionClient(azure_cog_endpoint, CognitiveServicesCredentials(azure_cog_key))\n",
    "    image_path = input(\"Enter the path of the image: \")\n",
    "    image_stream = open(image_path, 'rb')\n",
    "    # image_description = azure_compvision_client.describe_image_in_stream(image_stream)\n",
    "    # show_image_caption(image_path, image_description)\n",
    "    features_to_analyse = ['Description', 'Tags', 'Adult', 'Objects', 'Faces','categories']\n",
    "    image_analysis = azure_compvision_client.analyze_image_in_stream(image_stream, visual_features=features_to_analyse)\n",
    "    show_image_analysis(image_path, image_analysis)"
   ]
  },
  {
   "cell_type": "code",
   "execution_count": null,
   "metadata": {},
   "outputs": [],
   "source": [
    "def show_image_analysis(image_path,img_analysis):\n",
    "    import matplotlib.pyplot as plt\n",
    "    from PIL import Image, ImageDraw\n",
    "    import numpy as np\n",
    "\n",
    "    # Display the image\n",
    "    fig = plt.figure(figsize=(16, 8))\n",
    "    a = fig.add_subplot(1,2,1)\n",
    "    img = Image.open(image_path)\n",
    "    \n",
    "    # Get the caption\n",
    "    caption_text = ''\n",
    "    if (len(image_analysis.description.captions) == 0):\n",
    "        caption_text = 'No caption detected'\n",
    "    else:\n",
    "        for caption in image_analysis.description.captions:\n",
    "            caption_text = caption_text + \" '{}'\\n(Confidence: {:.2f}%)\".format(caption.text, caption.confidence * 100)\n",
    "    plt.title(caption_text)\n",
    "    if image_analysis.objects:\n",
    "        # Draw a rectangle around each object\n",
    "        for object in image_analysis.objects:\n",
    "                r = object.rectangle\n",
    "                print(r)\n",
    "                bounding_box = ((r.x, r.y), (r.x + r.w, r.y + r.h))\n",
    "                print(bounding_box)\n",
    "                draw = ImageDraw.Draw(img)\n",
    "                draw.rectangle(bounding_box, outline='magenta', width=5)\n",
    "                plt.annotate(object.object_property,(r.x, r.y), backgroundcolor='magenta')\n",
    "                plt.axis('on')\n",
    "                plt.imshow(img)\n",
    "if __name__ == '__main__':\n",
    "    azure_cog_endpoint = 'https://jccognitive.cognitiveservices.azure.com/'\n",
    "    azure_cog_key = 'a9626af4d50a495a990e6d557e4c9735'\n",
    "    azure_compvision_client = ComputerVisionClient(azure_cog_endpoint, CognitiveServicesCredentials(azure_cog_key))\n",
    "    image_path = input(\"Enter the path of the image: \")\n",
    "    image_stream = open(image_path, 'rb')\n",
    "    # image_description = azure_compvision_client.describe_image_in_stream(image_stream)\n",
    "    # show_image_caption(image_path, image_description)\n",
    "    features_to_analyse = ['Description', 'Tags', 'Adult', 'Objects', 'Faces']\n",
    "    image_analysis = azure_compvision_client.analyze_image_in_stream(image_stream, visual_features=features_to_analyse)\n",
    "    show_image_analysis(image_path, image_analysis)\n"
   ]
  },
  {
   "cell_type": "markdown",
   "metadata": {},
   "source": [
    "## Speech to Text"
   ]
  },
  {
   "cell_type": "code",
   "execution_count": 77,
   "metadata": {},
   "outputs": [
    {
     "name": "stdout",
     "output_type": "stream",
     "text": [
      "What's your name?\n"
     ]
    }
   ],
   "source": [
    "cog_location = 'eastus'\n",
    "cog_key = 'a9626af4d50a495a990e6d557e4c9735'\n",
    "import os\n",
    "import IPython\n",
    "from azure.cognitiveservices.speech import SpeechConfig, SpeechRecognizer, AudioConfig\n",
    "\n",
    "# Configure speech recognizer\n",
    "speech_config = SpeechConfig(cog_key, cog_location)\n",
    "\n",
    "# Have students say \"turn the light on\" \n",
    "speech_recognizer = SpeechRecognizer(speech_config)\n",
    "\n",
    "# Use a one-time, synchronous call to transcribe the speech\n",
    "speech = speech_recognizer.recognize_once()\n",
    "\n",
    "print(speech.text)"
   ]
  },
  {
   "cell_type": "markdown",
   "metadata": {},
   "source": [
    "## Text to Speech"
   ]
  },
  {
   "cell_type": "code",
   "execution_count": 75,
   "metadata": {},
   "outputs": [],
   "source": [
    "import os\n",
    "import matplotlib.pyplot as plt\n",
    "from PIL import Image\n",
    "from azure.cognitiveservices.speech import SpeechConfig, SpeechSynthesizer, AudioConfig\n",
    "%matplotlib inline\n",
    "\n",
    "# Get text to be spoken\n",
    "response_text = 'Turning the light on.'\n",
    "\n",
    "# Configure speech synthesis\n",
    "speech_config = SpeechConfig(cog_key, cog_location)\n",
    "speech_synthesizer = SpeechSynthesizer(speech_config)\n",
    "\n",
    "# Transcribe text into speech\n",
    "result = speech_synthesizer.speak_text(response_text)"
   ]
  },
  {
   "cell_type": "markdown",
   "metadata": {},
   "source": [
    "## Translator"
   ]
  },
  {
   "cell_type": "code",
   "execution_count": 89,
   "metadata": {},
   "outputs": [
    {
     "name": "stdout",
     "output_type": "stream",
     "text": [
      "Hello -> Bonjour\n"
     ]
    }
   ],
   "source": [
    "cog_location = 'eastus'\n",
    "cog_key = 'a9626af4d50a495a990e6d557e4c9735'\n",
    "import os\n",
    "import IPython\n",
    "def translate_text(cog_location, cog_key, text, to_lang='fr', from_lang='en'):\n",
    "    import requests, uuid, json\n",
    "\n",
    "    # Create the URL for the Text Translator service REST request\n",
    "    path = 'https://api.cognitive.microsofttranslator.com/translate?api-version=3.0'\n",
    "    params = '&from={}&to={}'.format(from_lang, to_lang)\n",
    "    constructed_url = path + params\n",
    "\n",
    "    # Prepare the request headers with Cognitive Services resource key and region\n",
    "    headers = {\n",
    "        'Ocp-Apim-Subscription-Key': cog_key,\n",
    "        'Ocp-Apim-Subscription-Region':cog_location,\n",
    "        'Content-type': 'application/json',\n",
    "        'X-ClientTraceId': str(uuid.uuid4())\n",
    "    }\n",
    "\n",
    "    # Add the text to be translated to the body\n",
    "    body = [{\n",
    "        'text': text\n",
    "    }]\n",
    "\n",
    "    # Get the translation\n",
    "    request = requests.post(constructed_url, headers=headers, json=body)\n",
    "    #print(request)\n",
    "    response = request.json()\n",
    "    return response[0][\"translations\"][0][\"text\"]\n",
    "\n",
    "\n",
    "# Test the function\n",
    "text_to_translate = \"Hello\"\n",
    "\n",
    "translation = translate_text(cog_location, cog_key, text_to_translate, to_lang='fr', from_lang='en')\n",
    "print('{} -> {}'.format(text_to_translate,translation))"
   ]
  },
  {
   "cell_type": "markdown",
   "metadata": {},
   "source": [
    "## Sentiment Analysis"
   ]
  },
  {
   "cell_type": "code",
   "execution_count": 94,
   "metadata": {},
   "outputs": [
    {
     "name": "stdout",
     "output_type": "stream",
     "text": [
      "{'id': '0', 'sentiment': 'positive', 'warnings': [], 'statistics': None, 'confidence_scores': SentimentConfidenceScores(positive=1.0, neutral=0.0, negative=0.0), 'sentences': [SentenceSentiment(text=I had the best day of my life., sentiment=positive, confidence_scores=SentimentConfidenceScores(positive=1.0, neutral=0.0, negative=0.0), offset=0, mined_opinions=[]), SentenceSentiment(text=I wish you were there with me., sentiment=neutral, confidence_scores=SentimentConfidenceScores(positive=0.21, neutral=0.77, negative=0.02), offset=31, mined_opinions=[])], 'is_error': False}\n",
      "Document Sentiment: positive\n",
      "Overall scores: positive=1.00; neutral=0.00; negative=0.00 \n",
      "\n",
      "Sentence: I had the best day of my life.\n",
      "Sentence 1 sentiment: positive\n",
      "Sentence score:\n",
      "Positive=1.00\n",
      "Neutral=0.00\n",
      "Negative=0.00\n",
      "\n",
      "Sentence: I wish you were there with me.\n",
      "Sentence 2 sentiment: neutral\n",
      "Sentence score:\n",
      "Positive=0.21\n",
      "Neutral=0.77\n",
      "Negative=0.02\n",
      "\n"
     ]
    }
   ],
   "source": [
    "from azure.ai.textanalytics import TextAnalyticsClient\n",
    "from azure.core.credentials import AzureKeyCredential\n",
    "\n",
    "def authenticate_client():\n",
    "    key = \"a9626af4d50a495a990e6d557e4c9735\"\n",
    "    endpoint = \"https://jccognitive.cognitiveservices.azure.com/\"\n",
    "    ta_credential = AzureKeyCredential(key)\n",
    "    text_analytics_client = TextAnalyticsClient(\n",
    "            endpoint=endpoint, \n",
    "            credential=ta_credential)\n",
    "    return text_analytics_client\n",
    "\n",
    "client = authenticate_client()\n",
    "def sentiment_analysis_example(client):\n",
    "\n",
    "    documents = [\"I had the best day of my life. I wish you were there with me.\"]\n",
    "    response = client.analyze_sentiment(documents=documents)[0]\n",
    "    print(response)\n",
    "    print(\"Document Sentiment: {}\".format(response.sentiment))\n",
    "    print(\"Overall scores: positive={0:.2f}; neutral={1:.2f}; negative={2:.2f} \\n\".format(\n",
    "        response.confidence_scores.positive,\n",
    "        response.confidence_scores.neutral,\n",
    "        response.confidence_scores.negative,\n",
    "    ))\n",
    "    for idx, sentence in enumerate(response.sentences):\n",
    "        print(\"Sentence: {}\".format(sentence.text))\n",
    "        print(\"Sentence {} sentiment: {}\".format(idx+1, sentence.sentiment))\n",
    "        print(\"Sentence score:\\nPositive={0:.2f}\\nNeutral={1:.2f}\\nNegative={2:.2f}\\n\".format(\n",
    "            sentence.confidence_scores.positive,\n",
    "            sentence.confidence_scores.neutral,\n",
    "            sentence.confidence_scores.negative,\n",
    "        ))\n",
    "          \n",
    "sentiment_analysis_example(client)"
   ]
  },
  {
   "cell_type": "markdown",
   "metadata": {},
   "source": [
    "## Opinion mining"
   ]
  },
  {
   "cell_type": "code",
   "execution_count": 95,
   "metadata": {},
   "outputs": [
    {
     "name": "stdout",
     "output_type": "stream",
     "text": [
      "Document Sentiment: positive\n",
      "Overall scores: positive=0.84; neutral=0.00; negative=0.16 \n",
      "\n",
      "Sentence: The food and service were unacceptable, but the concierge were nice\n",
      "Sentence sentiment: positive\n",
      "Sentence score:\n",
      "Positive=0.84\n",
      "Neutral=0.00\n",
      "Negative=0.16\n",
      "\n",
      "......'negative' aspect 'food'\n",
      "......Aspect score:\n",
      "......Positive=0.01\n",
      "......Negative=0.99\n",
      "\n",
      "......'negative' opinion 'unacceptable'\n",
      "......Opinion score:\n",
      "......Positive=0.01\n",
      "......Negative=0.99\n",
      "\n",
      "......'negative' aspect 'service'\n",
      "......Aspect score:\n",
      "......Positive=0.01\n",
      "......Negative=0.99\n",
      "\n",
      "......'negative' opinion 'unacceptable'\n",
      "......Opinion score:\n",
      "......Positive=0.01\n",
      "......Negative=0.99\n",
      "\n",
      "......'positive' aspect 'concierge'\n",
      "......Aspect score:\n",
      "......Positive=1.00\n",
      "......Negative=0.00\n",
      "\n",
      "......'positive' opinion 'nice'\n",
      "......Opinion score:\n",
      "......Positive=1.00\n",
      "......Negative=0.00\n",
      "\n",
      "\n",
      "\n",
      "\n",
      "\n"
     ]
    }
   ],
   "source": [
    "def sentiment_analysis_with_opinion_mining_example(client):\n",
    "\n",
    "    documents = [\n",
    "        \"The food and service were unacceptable, but the concierge were nice\"\n",
    "    ]\n",
    "\n",
    "    result = client.analyze_sentiment(documents, show_opinion_mining=True)\n",
    "    doc_result = [doc for doc in result if not doc.is_error]\n",
    "\n",
    "    positive_reviews = [doc for doc in doc_result if doc.sentiment == \"positive\"]\n",
    "    negative_reviews = [doc for doc in doc_result if doc.sentiment == \"negative\"]\n",
    "\n",
    "    positive_mined_opinions = []\n",
    "    mixed_mined_opinions = []\n",
    "    negative_mined_opinions = []\n",
    "\n",
    "    for document in doc_result:\n",
    "        print(\"Document Sentiment: {}\".format(document.sentiment))\n",
    "        print(\"Overall scores: positive={0:.2f}; neutral={1:.2f}; negative={2:.2f} \\n\".format(\n",
    "            document.confidence_scores.positive,\n",
    "            document.confidence_scores.neutral,\n",
    "            document.confidence_scores.negative,\n",
    "        ))\n",
    "        for sentence in document.sentences:\n",
    "            print(\"Sentence: {}\".format(sentence.text))\n",
    "            print(\"Sentence sentiment: {}\".format(sentence.sentiment))\n",
    "            print(\"Sentence score:\\nPositive={0:.2f}\\nNeutral={1:.2f}\\nNegative={2:.2f}\\n\".format(\n",
    "                sentence.confidence_scores.positive,\n",
    "                sentence.confidence_scores.neutral,\n",
    "                sentence.confidence_scores.negative,\n",
    "            ))\n",
    "            for mined_opinion in sentence.mined_opinions:\n",
    "                aspect = mined_opinion.aspect\n",
    "                print(\"......'{}' aspect '{}'\".format(aspect.sentiment, aspect.text))\n",
    "                print(\"......Aspect score:\\n......Positive={0:.2f}\\n......Negative={1:.2f}\\n\".format(\n",
    "                    aspect.confidence_scores.positive,\n",
    "                    aspect.confidence_scores.negative,\n",
    "                ))\n",
    "                for opinion in mined_opinion.opinions:\n",
    "                    print(\"......'{}' opinion '{}'\".format(opinion.sentiment, opinion.text))\n",
    "                    print(\"......Opinion score:\\n......Positive={0:.2f}\\n......Negative={1:.2f}\\n\".format(\n",
    "                        opinion.confidence_scores.positive,\n",
    "                        opinion.confidence_scores.negative,\n",
    "                    ))\n",
    "            print(\"\\n\")\n",
    "        print(\"\\n\")\n",
    "          \n",
    "sentiment_analysis_with_opinion_mining_example(client)"
   ]
  },
  {
   "cell_type": "markdown",
   "metadata": {},
   "source": [
    "## Language Detection"
   ]
  },
  {
   "cell_type": "code",
   "execution_count": 97,
   "metadata": {},
   "outputs": [
    {
     "name": "stdout",
     "output_type": "stream",
     "text": [
      "Language:  French\n"
     ]
    }
   ],
   "source": [
    "def language_detection_example(client):\n",
    "    try:\n",
    "        documents = [\"Ce document est rédigé en Français.\"]\n",
    "        response = client.detect_language(documents = documents, country_hint = 'us')[0]\n",
    "        print(\"Language: \", response.primary_language.name)\n",
    "\n",
    "    except Exception as err:\n",
    "        print(\"Encountered exception. {}\".format(err))\n",
    "language_detection_example(client)"
   ]
  },
  {
   "cell_type": "markdown",
   "metadata": {},
   "source": [
    "## Entity Recognization"
   ]
  },
  {
   "cell_type": "code",
   "execution_count": 103,
   "metadata": {},
   "outputs": [
    {
     "name": "stdout",
     "output_type": "stream",
     "text": [
      "Named Entities:\n",
      "\n",
      "{'text': 'Wonderla', 'category': 'Location', 'subcategory': 'GPE', 'offset': 10, 'confidence_score': 0.31}\n",
      "Encountered exception. 'CategorizedEntity' object has no attribute 'length'\n"
     ]
    }
   ],
   "source": [
    "def entity_recognition_example(client):\n",
    "\n",
    "    try:\n",
    "        documents = [\"I went to Wonderla last week\"]\n",
    "        result = client.recognize_entities(documents = documents)[0]\n",
    "\n",
    "        print(\"Named Entities:\\n\")\n",
    "        for entity in result.entities:\n",
    "            print(entity)\n",
    "            print(\"\\tText: \\t\", entity.text, \"\\tCategory: \\t\", entity.category, \"\\tSubCategory: \\t\", entity.subcategory,\n",
    "                    \"\\n\\tConfidence Score: \\t\", round(entity.confidence_score, 2), \"\\tLength: \\t\", entity.length, \"\\tOffset: \\t\", entity.offset, \"\\n\")\n",
    "\n",
    "    except Exception as err:\n",
    "        print(\"Encountered exception. {}\".format(err))\n",
    "entity_recognition_example(client)"
   ]
  },
  {
   "cell_type": "markdown",
   "metadata": {},
   "source": [
    "## Personally Identfiable Information"
   ]
  },
  {
   "cell_type": "code",
   "execution_count": 105,
   "metadata": {},
   "outputs": [
    {
     "name": "stdout",
     "output_type": "stream",
     "text": [
      "Redacted Text: The employee's SSN is ***********.\n",
      "Entity: 859-98-0987\n",
      "\tCategory: U.S. Social Security Number (SSN)\n",
      "\tConfidence Score: 0.65\n",
      "\tOffset: 22\n",
      "Redacted Text: The employee's phone number is ************.\n",
      "Entity: 555-555-5555\n",
      "\tCategory: Phone Number\n",
      "\tConfidence Score: 0.8\n",
      "\tOffset: 31\n"
     ]
    }
   ],
   "source": [
    "def pii_recognition_example(client):\n",
    "    documents = [\n",
    "        \"The employee's SSN is 859-98-0987.\",\n",
    "        \"The employee's phone number is 555-555-5555.\"\n",
    "    ]\n",
    "    response = client.recognize_pii_entities(documents, language=\"en\")\n",
    "    result = [doc for doc in response if not doc.is_error]\n",
    "    for doc in result:\n",
    "        print(\"Redacted Text: {}\".format(doc.redacted_text))\n",
    "        for entity in doc.entities:\n",
    "            print(\"Entity: {}\".format(entity.text))\n",
    "            print(\"\\tCategory: {}\".format(entity.category))\n",
    "            print(\"\\tConfidence Score: {}\".format(entity.confidence_score))\n",
    "            print(\"\\tOffset: {}\".format(entity.offset))\n",
    "pii_recognition_example(client)"
   ]
  },
  {
   "cell_type": "markdown",
   "metadata": {},
   "source": [
    "## Key Phrase Extraction"
   ]
  },
  {
   "cell_type": "code",
   "execution_count": 106,
   "metadata": {},
   "outputs": [
    {
     "name": "stdout",
     "output_type": "stream",
     "text": [
      "\tKey Phrases:\n",
      "\t\t cat\n",
      "\t\t veterinarian\n"
     ]
    }
   ],
   "source": [
    "def key_phrase_extraction_example(client):\n",
    "\n",
    "    try:\n",
    "        documents = [\"My cat might need to see a veterinarian.\"]\n",
    "\n",
    "        response = client.extract_key_phrases(documents = documents)[0]\n",
    "\n",
    "        if not response.is_error:\n",
    "            print(\"\\tKey Phrases:\")\n",
    "            for phrase in response.key_phrases:\n",
    "                print(\"\\t\\t\", phrase)\n",
    "        else:\n",
    "            print(response.id, response.error)\n",
    "\n",
    "    except Exception as err:\n",
    "        print(\"Encountered exception. {}\".format(err))\n",
    "        \n",
    "key_phrase_extraction_example(client)"
   ]
  },
  {
   "cell_type": "code",
   "execution_count": null,
   "metadata": {},
   "outputs": [],
   "source": []
  }
 ],
 "metadata": {
  "kernelspec": {
   "display_name": "Python 3",
   "language": "python",
   "name": "python3"
  },
  "language_info": {
   "codemirror_mode": {
    "name": "ipython",
    "version": 3
   },
   "file_extension": ".py",
   "mimetype": "text/x-python",
   "name": "python",
   "nbconvert_exporter": "python",
   "pygments_lexer": "ipython3",
   "version": "3.8.3"
  }
 },
 "nbformat": 4,
 "nbformat_minor": 4
}
